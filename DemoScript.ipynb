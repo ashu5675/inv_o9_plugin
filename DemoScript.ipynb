{
  "cells": [
    {
      "cell_type": "code",
      "execution_count": 6,
      "id": "20d8491d-0034-4fe6-9d9a-de4ac1b2604d",
      "metadata": {},
      "outputs": [],
      "source": [
        "from o9_common_utils.O9DataLake import O9DataLake, ResourceType, DataSource, PluginSetting\n",
        "sales = O9DataLake.register(\"SalesActual\" ,DataSource.LIVEFRAME,ResourceType.LIVEFRAME, plugin_setting = PluginSetting.Inputs)\n",
        "output = O9DataLake.register(\"output\",data_source = DataSource.LS,entity_type = ResourceType.IBPL, plugin_setting = PluginSetting.Outputs)"
      ]
    },
    {
      "cell_type": "code",
      "execution_count": 7,
      "id": "7f8af891-b7c5-491e-a6ce-79b1b41db170",
      "metadata": {},
      "outputs": [
        {
          "data": {
            "text/plain": [
              "{'SalesActual': {'name': 'SalesActual',\n",
              "  'resource_type': <ResourceType.LIVEFRAME: 'liveframe'>,\n",
              "  'data_source': <DataSource.LIVEFRAME: 'liveframe'>,\n",
              "  'query': 'SELECT ([Time].[Week].filter(#.[Week$InActive] in { false }) * {Measure.[AIPActual]} * [Item].[Planning Item].filter(#.[Planning Item$InActive] in { false }) * [Location].[Location].filter(#.Name in { \"3\", \"4\", \"5\", \"6\", \"8\" }).relatedmembers([Location]).filter(#.[Location$InActive] in { false })) on row, () on column include lcid 1033, cellproperties {LOCK, BG_COLOR, FG_COLOR} where {[Item].[Item].filter(#.Name in { \"273940\", \"547370\", \"696820\", \"759830\", \"838179\" }).filter(#.[Item$InActive] in { false }) , [Time].[Year].filter(#.Name in { \"2021\", \"2022\", \"2023\" }).filter(#.[Year$InActive] in { false }) , [Version].[Version Name].filter(#.Name in { \"CurrentWorkingView\" }).filter(#.[Version Name$InActive] in { false })} ORDERBY [Time].[Week].[Key] ASC ;',\n",
              "  'LiveFrameReportId': '8ef7dcfe-8a32-472b-83d3-9129d904b332',\n",
              "  'std_count_limit': '200000',\n",
              "  'df':      Time.[Week]  Item.[Planning Item]  Location.[Location]  AIPActual\n",
              "  0      03-Jan-21                273940                    4     2293.0\n",
              "  1      03-Jan-21                273940                    6     2936.0\n",
              "  2      03-Jan-21                273940                    8     7402.0\n",
              "  3      03-Jan-21                547370                    4     4001.0\n",
              "  4      03-Jan-21                547370                    6     4907.0\n",
              "  ...          ...                   ...                  ...        ...\n",
              "  2284   29-Jan-23                838179                    3     4649.0\n",
              "  2285   29-Jan-23                838179                    4     4065.0\n",
              "  2286   29-Jan-23                838179                    5     4319.0\n",
              "  2287   29-Jan-23                838179                    6     3010.0\n",
              "  2288   29-Jan-23                838179                    8     2896.0\n",
              "  \n",
              "  [2289 rows x 4 columns]}}"
            ]
          },
          "execution_count": 7,
          "metadata": {},
          "output_type": "execute_result"
        }
      ],
      "source": [
        "O9DataLake.inputs"
      ]
    },
    {
      "cell_type": "code",
      "execution_count": 8,
      "id": "49be3ee9-26f2-4274-9f33-6a14b9da76a5",
      "metadata": {},
      "outputs": [
        {
          "name": "stderr",
          "output_type": "stream",
          "text": [
            "find: \u2018/usr/hdp\u2019: No such file or directory\n"
          ]
        },
        {
          "name": "stdout",
          "output_type": "stream",
          "text": [
            "O9Flow Service is running now...\n",
            "2024-01-22 13:54:50,058 - o9_logger - INFO  - sample plugin template\n",
            "2024-01-22 13:54:50,059 - o9_logger - INFO  - o9flow initialising\n",
            "2024-01-22 13:54:50,072 - o9_logger - INFO  -               Item  Location  AIPActual\n",
            "Week                                   \n",
            "2021-01-03  273940         4     2293.0\n",
            "2021-01-03  273940         6     2936.0\n",
            "2021-01-03  273940         8     7402.0\n",
            "2021-01-03  547370         4     4001.0\n",
            "2021-01-03  547370         6     4907.0\n",
            "2024-01-22 13:54:50,436 - o9_logger - INFO  -   Version.[Version Name] Item.[Planning Item] Location.[Location] Time.[Week]  \\\n",
            "0     CurrentWorkingView               273940                   4   05-Feb-23   \n",
            "1     CurrentWorkingView               273940                   4   12-Feb-23   \n",
            "2     CurrentWorkingView               273940                   4   19-Feb-23   \n",
            "3     CurrentWorkingView               273940                   4   26-Feb-23   \n",
            "4     CurrentWorkingView               273940                   4   05-Mar-23   \n",
            "\n",
            "   Predicted Sales  \n",
            "0      2978.666667  \n",
            "1      2978.666667  \n",
            "2      2978.666667  \n",
            "3      2978.666667  \n",
            "4      2978.666667  \n"
          ]
        }
      ],
      "source": [
        "import pandas as pd\n",
        "from statsmodels.tsa.holtwinters import ExponentialSmoothing\n",
        "import numpy as np\n",
        "import logging\n",
        "\n",
        "from o9_flow.O9Flow import O9Flow\n",
        "o9flow = O9Flow()\n",
        "logger = logging.getLogger('o9_logger')\n",
        "\n",
        "logger.info(\"sample plugin template\")\n",
        "logger.info('o9flow initialising')\n",
        "\n",
        "df = sales\n",
        "\n",
        "data = df.rename(columns={'Time.[Week]': 'Week', 'Item.[Planning Item]': 'Item', 'Location.[Location]':'Location'})\n",
        "\n",
        "data['Week'] = pd.to_datetime(data['Week'])\n",
        "data.set_index('Week', inplace=True)\n",
        "\n",
        "items = data['Item'].unique()\n",
        "locations = data['Location'].unique()\n",
        "\n",
        "predictions_df = pd.DataFrame(columns=['Item', 'Location', 'Week', 'Predicted Sales'])\n",
        "\n",
        "\n",
        "\n",
        "logger.info(data.head())\n",
        "\n",
        "for item in items:\n",
        "    for location in locations:\n",
        "        # Filter data for the specific item and location\n",
        "        subset_data = data[(data['Item'] == item) & (data['Location'] == location)]\n",
        "        if subset_data.empty != True:\n",
        "            item_location_sales = subset_data['AIPActual']\n",
        "\n",
        "        # Calculate Simple Moving Average\n",
        "            window_size = 3  # Adjust the window size as needed\n",
        "            sma = item_location_sales.rolling(window=window_size).mean()\n",
        "\n",
        "            # Make predictions for the next 10 weeks (assuming a constant average)\n",
        "            average_prediction = sma.iloc[-1]   # Use the last calculated average\n",
        "\n",
        "            # Create a DataFrame with the predictions\n",
        "            predictions_subset = pd.DataFrame({\n",
        "                'Item': [item] * 10,\n",
        "                'Location': [location] * 10,\n",
        "                'Week': pd.date_range(start=item_location_sales.index[-1] + pd.DateOffset(1), periods=10, freq='W'),\n",
        "                'Predicted Sales': [average_prediction] * 10\n",
        "            })\n",
        "\n",
        "            # Append the predictions to the overall DataFrame\n",
        "            predictions_df = predictions_df.append(predictions_subset, ignore_index=True)\n",
        "\n",
        "            \n",
        "            predictions_df['Week'] = pd.to_datetime(predictions_df['Week']).dt.strftime('%d-%b-%y')\n",
        "\n",
        "o9flow.log_params(params= {'param_A':8, 'param_B':1.5, 'param_C':'Testing'})\n",
        "o9flow.log_metrics(metrics={'plugin_feature_A': 4.99, 'plugin_feature_B': 3.00}, step=11)\n",
        "            \n",
        "output = predictions_df.rename(columns={'Week':'Time.[Week]', 'Item':'Item.[Planning Item]', 'Location':'Location.[Location]'})\n",
        "output['Version.[Version Name]'] = 'CurrentWorkingView'\n",
        "List = ['Version.[Version Name]','Item.[Planning Item]','Location.[Location]','Time.[Week]','Predicted Sales']\n",
        "output = output[List]\n",
        "\n",
        "logger.info(output.head())\n"
      ]
    },
    {
      "cell_type": "code",
      "execution_count": 9,
      "id": "2bca2d6e-ce31-4c0a-9ed0-81ba969fb879",
      "metadata": {},
      "outputs": [],
      "source": [
        "O9DataLake.put('output', output)"
      ]
    }
  ],
  "metadata": {
    "id": "61a717b2-6601-4e80-8c5d-992ce4294fd1",
    "kernelspec": {
      "display_name": "[AshutoshGFS] Tenant Conda Environment",
      "language": "python",
      "name": "sandbox_ashutoshgfs"
    },
    "language_info": {
      "codemirror_mode": {
        "name": "ipython",
        "version": 3
      },
      "file_extension": ".py",
      "mimetype": "text/x-python",
      "name": "python",
      "nbconvert_exporter": "python",
      "pygments_lexer": "ipython3",
      "version": "3.7.10"
    }
  },
  "nbformat": 4,
  "nbformat_minor": 5
}