{
 "cells": [
  {
   "cell_type": "code",
   "execution_count": 8,
   "id": "20d8491d-0034-4fe6-9d9a-de4ac1b2604d",
   "metadata": {},
   "outputs": [],
   "source": [
    "from o9_common_utils.O9DataLake import O9DataLake, ResourceType, DataSource, PluginSetting\n",
    "sales = O9DataLake.register(\"SalesActual\",DataSource.LIVEFRAME,ResourceType.LIVEFRAME, plugin_setting = PluginSetting.Inputs)\n",
    "output = O9DataLake.register(\"output\",data_source = DataSource.LS,entity_type = ResourceType.IBPL, plugin_setting = PluginSetting.Outputs)"
   ]
  },
  {
   "cell_type": "code",
   "execution_count": 9,
   "id": "7f8af891-b7c5-491e-a6ce-79b1b41db170",
   "metadata": {},
   "outputs": [
    {
     "data": {
      "text/plain": [
       "{}"
      ]
     },
     "execution_count": 9,
     "metadata": {},
     "output_type": "execute_result"
    }
   ],
   "source": [
    "O9DataLake.inputs"
   ]
  },
  {
   "cell_type": "code",
   "execution_count": 7,
   "id": "49be3ee9-26f2-4274-9f33-6a14b9da76a5",
   "metadata": {},
   "outputs": [
    {
     "name": "stdout",
     "output_type": "stream",
     "text": [
      "2024-01-16 12:59:37,408 - o9_logger - INFO  - sample plugin template\n",
      "2024-01-16 12:59:37,409 - o9_logger - INFO  - o9flow initialising\n"
     ]
    },
    {
     "ename": "AttributeError",
     "evalue": "'str' object has no attribute 'rename'",
     "output_type": "error",
     "traceback": [
      "\u001b[0;31m---------------------------------------------------------------------------\u001b[0m",
      "\u001b[0;31mAttributeError\u001b[0m                            Traceback (most recent call last)",
      "\u001b[0;32m/tmp/ipykernel_181/319760611.py\u001b[0m in \u001b[0;36m<module>\u001b[0;34m\u001b[0m\n\u001b[1;32m     13\u001b[0m \u001b[0mdf\u001b[0m \u001b[0;34m=\u001b[0m \u001b[0msales\u001b[0m\u001b[0;34m\u001b[0m\u001b[0;34m\u001b[0m\u001b[0m\n\u001b[1;32m     14\u001b[0m \u001b[0;34m\u001b[0m\u001b[0m\n\u001b[0;32m---> 15\u001b[0;31m \u001b[0mdata\u001b[0m \u001b[0;34m=\u001b[0m \u001b[0mdf\u001b[0m\u001b[0;34m.\u001b[0m\u001b[0mrename\u001b[0m\u001b[0;34m(\u001b[0m\u001b[0mcolumns\u001b[0m\u001b[0;34m=\u001b[0m\u001b[0;34m{\u001b[0m\u001b[0;34m'Time.[Week]'\u001b[0m\u001b[0;34m:\u001b[0m \u001b[0;34m'Week'\u001b[0m\u001b[0;34m,\u001b[0m \u001b[0;34m'Item.[Planning Item]'\u001b[0m\u001b[0;34m:\u001b[0m \u001b[0;34m'Item'\u001b[0m\u001b[0;34m,\u001b[0m \u001b[0;34m'Location.[Location]'\u001b[0m\u001b[0;34m:\u001b[0m\u001b[0;34m'Location'\u001b[0m\u001b[0;34m}\u001b[0m\u001b[0;34m)\u001b[0m\u001b[0;34m\u001b[0m\u001b[0;34m\u001b[0m\u001b[0m\n\u001b[0m\u001b[1;32m     16\u001b[0m \u001b[0;34m\u001b[0m\u001b[0m\n\u001b[1;32m     17\u001b[0m \u001b[0mdata\u001b[0m\u001b[0;34m[\u001b[0m\u001b[0;34m'Week'\u001b[0m\u001b[0;34m]\u001b[0m \u001b[0;34m=\u001b[0m \u001b[0mpd\u001b[0m\u001b[0;34m.\u001b[0m\u001b[0mto_datetime\u001b[0m\u001b[0;34m(\u001b[0m\u001b[0mdata\u001b[0m\u001b[0;34m[\u001b[0m\u001b[0;34m'Week'\u001b[0m\u001b[0;34m]\u001b[0m\u001b[0;34m)\u001b[0m\u001b[0;34m\u001b[0m\u001b[0;34m\u001b[0m\u001b[0m\n",
      "\u001b[0;31mAttributeError\u001b[0m: 'str' object has no attribute 'rename'"
     ]
    }
   ],
   "source": [
    "import pandas as pd\n",
    "from statsmodels.tsa.holtwinters import ExponentialSmoothing\n",
    "import numpy as np\n",
    "import logging\n",
    "\n",
    "from o9_flow.O9Flow import O9Flow\n",
    "\n",
    "logger = logging.getLogger('o9_logger')\n",
    "\n",
    "logger.info(\"sample plugin template\")\n",
    "logger.info('o9flow initialising')\n",
    "\n",
    "df = sales\n",
    "\n",
    "data = df.rename(columns={'Time.[Week]': 'Week', 'Item.[Planning Item]': 'Item', 'Location.[Location]':'Location'})\n",
    "\n",
    "data['Week'] = pd.to_datetime(data['Week'])\n",
    "data.set_index('Week', inplace=True)\n",
    "\n",
    "items = data['Item'].unique()\n",
    "locations = data['Location'].unique()\n",
    "\n",
    "predictions_df = pd.DataFrame(columns=['Item', 'Location', 'Week', 'Predicted Sales'])\n",
    "\n",
    "\n",
    "\n",
    "logger.info(data.head())\n",
    "\n",
    "for item in items:\n",
    "    for location in locations:\n",
    "        # Filter data for the specific item and location\n",
    "        subset_data = data[(data['Item'] == item) & (data['Location'] == location)]\n",
    "        if subset_data.empty != True:\n",
    "            item_location_sales = subset_data['AIPActual']\n",
    "\n",
    "        # Calculate Simple Moving Average\n",
    "            window_size = 3  # Adjust the window size as needed\n",
    "            sma = item_location_sales.rolling(window=window_size).mean()\n",
    "\n",
    "            # Make predictions for the next 10 weeks (assuming a constant average)\n",
    "            average_prediction = sma.iloc[-1]   # Use the last calculated average\n",
    "\n",
    "            # Create a DataFrame with the predictions\n",
    "            predictions_subset = pd.DataFrame({\n",
    "                'Item': [item] * 10,\n",
    "                'Location': [location] * 10,\n",
    "                'Week': pd.date_range(start=item_location_sales.index[-1] + pd.DateOffset(1), periods=10, freq='W'),\n",
    "                'Predicted Sales': [average_prediction] * 10\n",
    "            })\n",
    "\n",
    "            # Append the predictions to the overall DataFrame\n",
    "            predictions_df = predictions_df.append(predictions_subset, ignore_index=True)\n",
    "\n",
    "            \n",
    "            predictions_df['Week'] = pd.to_datetime(predictions_df['Week']).dt.strftime('%d-%b-%y')\n",
    "\n",
    "o9flow.log_params(params= {'param_A':8, 'param_B':1.5, 'param_C':'Testing'})\n",
    "o9flow.log_metrics(metrics={'plugin_feature_A': 4.99, 'plugin_feature_B': 3.00}, step=11)\n",
    "            \n",
    "output = predictions_df.rename(columns={'Week':'Time.[Week]', 'Item':'Item.[Planning Item]', 'Location':'Location.[Location]'})\n",
    "output['Version.[Version Name]'] = 'CurrentWorkingView'\n",
    "List = ['Version.[Version Name]','Item.[Planning Item]','Location.[Location]','Time.[Week]','Predicted Sales']\n",
    "output = output[List]\n",
    "\n",
    "logger.info(output.head())\n"
   ]
  },
  {
   "cell_type": "code",
   "execution_count": 6,
   "id": "2bca2d6e-ce31-4c0a-9ed0-81ba969fb879",
   "metadata": {},
   "outputs": [],
   "source": [
    "O9DataLake.put('output', output)"
   ]
  },
  {
   "cell_type": "code",
   "execution_count": null,
   "id": "9f616ad9-4914-4252-a1bc-df8999468720",
   "metadata": {},
   "outputs": [],
   "source": [
    "import logging\n",
    "logger = logging.getLogger('o9_logger')\n",
    "logger.info('o9flow initialising')\n",
    "from o9_flow.O9Flow import O9Flow\n",
    "import numpy as np\n",
    "import matplotlib.pyplot as plt\n",
    "figure_value = plt.figure()\n",
    "figure_value.add_axes([10,10,10,10]) # plotting graph can be stored as an figure in o9Flow\n",
    "image_value = np.ndarray(shape=(2,2), dtype=float, order='F') \n",
    "o9flow = O9Flow()\n",
    "o9flow.start_run(run_name = 'T010')\n",
    "o9flow.log_text(text = 'Testing Plugin', artifact_file='Plugin_testing_log_text.txt')\n",
    "o9flow.log_dict(dictionary={'param1':'Integer', 'param2':'Float'}, artifact_file='Plugin_testing_log_dict.json')\n",
    "o9flow.log_figure(figure=figure_value, artifact_file='Plugin_testing_log_figure.png')\n",
    "o9flow.log_image(image=image_value, artifact_file='Plugin_testing_log_img.png')\n",
    "o9flow.log_params(params= {'param_A':8, 'param_B':1.5, 'param_C':'Testing'})\n",
    "o9flow.log_metric(key='plugin_feature', value= 6.0, step=2) # metric can be stored as a float value\n",
    "o9flow.log_metrics(metrics={'plugin_feature_A': 4.99, 'plugin_feature_B': 3.00}, step=11)\n",
    "o9flow.log_metrics(metrics={'plugin_feature_A': 4.8, 'plugin_feature_B': 3.8}, step=3)\n",
    "o9flow.log_metrics(metrics={'plugin_feature_N': 0.8, 'plugin_feature_B': .8}, step=2)\n",
    "\n",
    "\n",
    "\n",
    "o9flow.log_metrics(metrics={'plugin_feature_A': 4.8, 'plugin_feature_B': 3.8}, step=3)\n",
    "o9flow.log_metrics(metrics={'plugin_feature_N': 0.8, 'plugin_feature_B': .8}, step=2)\n",
    "o9flow.log_text(text = 'Testing Plugin', artifact_file='Plugin_testing_log.txt')\n",
    "o9flow.log_dict(dictionary={'param1':'gufyuiugbubbuhi', 'param2':'t7ggtt7uuygy7y'}, artifact_file='Plugin_testing_log_dict.json')\n",
    "o9flow.end_run()"
   ]
  }
 ],
 "metadata": {
  "id": "61a717b2-6601-4e80-8c5d-992ce4294fd1",
  "kernelspec": {
   "display_name": "[AshutoshGFS] Tenant Conda Environment",
   "language": "python",
   "name": "qarelease_ashutoshgfs"
  },
  "language_info": {
   "codemirror_mode": {
    "name": "ipython",
    "version": 3
   },
   "file_extension": ".py",
   "mimetype": "text/x-python",
   "name": "python",
   "nbconvert_exporter": "python",
   "pygments_lexer": "ipython3",
   "version": "3.7.10"
  }
 },
 "nbformat": 4,
 "nbformat_minor": 5
}
