{
 "cells": [
  {
   "cell_type": "code",
   "execution_count": 4,
   "id": "f6df27c8-e8e0-4e3a-a81a-5908374f3ff3",
   "metadata": {},
   "outputs": [],
   "source": [
    "from o9_common_utils.O9DataLake import O9DataLake, ResourceType, DataSource, PluginSetting\n",
    "SalesActual = O9DataLake.register(\"SalesActual\" ,DataSource.LIVEFRAME,ResourceType.LIVEFRAME, plugin_setting = PluginSetting.Inputs)\n",
    "output = O9DataLake.register(\"output\",data_source = DataSource.LS,entity_type = ResourceType.IBPL, plugin_setting = PluginSetting.Outputs)"
   ]
  },
  {
   "cell_type": "code",
   "execution_count": null,
   "id": "a36526d8-fca0-4d83-bc8d-190f5606ad02",
   "metadata": {},
   "outputs": [],
   "source": []
  }
 ],
 "metadata": {
  "kernelspec": {
   "display_name": "[AshutoshGFS] Tenant Conda Environment",
   "language": "python",
   "name": "sandbox_ashutoshgfs"
  },
  "language_info": {
   "codemirror_mode": {
    "name": "ipython",
    "version": 3
   },
   "file_extension": ".py",
   "mimetype": "text/x-python",
   "name": "python",
   "nbconvert_exporter": "python",
   "pygments_lexer": "ipython3",
   "version": "3.7.10"
  }
 },
 "nbformat": 4,
 "nbformat_minor": 5
}
